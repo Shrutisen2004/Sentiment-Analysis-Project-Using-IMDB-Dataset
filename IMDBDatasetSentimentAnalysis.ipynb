{
  "nbformat": 4,
  "nbformat_minor": 0,
  "metadata": {
    "colab": {
      "provenance": []
    },
    "kernelspec": {
      "name": "python3",
      "display_name": "Python 3"
    },
    "language_info": {
      "name": "python"
    }
  },
  "cells": [
    {
      "cell_type": "markdown",
      "source": [
        "# Importing the libraries"
      ],
      "metadata": {
        "id": "jzdRweWKy9ER"
      }
    },
    {
      "cell_type": "code",
      "source": [
        "from keras.datasets import imdb\n",
        "import numpy as np\n",
        "from keras.models import Sequential\n",
        "from keras.layers import Dense\n",
        "from sklearn.metrics import accuracy_score\n"
      ],
      "metadata": {
        "id": "JWLXj0bI0afJ"
      },
      "execution_count": 3,
      "outputs": []
    },
    {
      "cell_type": "markdown",
      "source": [
        "# Data Preprocessing"
      ],
      "metadata": {
        "id": "xtUqXA7hzOL8"
      }
    },
    {
      "cell_type": "code",
      "source": [
        "def vectorize(sequences, dimension = 5000):\n",
        "    results = np.zeros((len(sequences), dimension))\n",
        "    for i in range(len(sequences)):\n",
        "        results[i, sequences[i]] = 1\n",
        "    return results\n"
      ],
      "metadata": {
        "id": "c8ZLlwBwzD-5"
      },
      "execution_count": 4,
      "outputs": []
    },
    {
      "cell_type": "code",
      "source": [
        "\n",
        "(Xtrain, ytrain), (Xtest, ytest) = imdb.load_data(num_words=5000)#imdb dataset positive or negative sentiment of comments\n",
        "Xtrain = vectorize(Xtrain)"
      ],
      "metadata": {
        "id": "gc4uyZN00wty"
      },
      "execution_count": 5,
      "outputs": []
    },
    {
      "cell_type": "markdown",
      "source": [
        "# Model Building"
      ],
      "metadata": {
        "id": "VfgD5_Bp08tH"
      }
    },
    {
      "cell_type": "code",
      "source": [
        "model = Sequential()\n",
        "model.add(Dense(50, input_dim=5000, activation=\"relu\"))\n",
        "model.add(Dense(50, activation=\"relu\"))\n",
        "model.add(Dense(50, activation=\"relu\"))\n",
        "model.add(Dense(1, activation=\"sigmoid\"))"
      ],
      "metadata": {
        "id": "hJbfAW6R1BTX"
      },
      "execution_count": 6,
      "outputs": []
    },
    {
      "cell_type": "markdown",
      "source": [
        "# Model Compilation and Training"
      ],
      "metadata": {
        "id": "GXUcL-_p1PTY"
      }
    },
    {
      "cell_type": "code",
      "source": [
        "model.compile(loss=\"binary_crossentropy\", optimizer=\"adam\", metrics=[\"accuracy\"])\n",
        "history = model.fit(Xtrain, ytrain, epochs=10, batch_size=550)\n"
      ],
      "metadata": {
        "colab": {
          "base_uri": "https://localhost:8080/"
        },
        "id": "zuJ5nvLl1VBe",
        "outputId": "867cabcf-4dd7-4f45-83a3-ec391f924301"
      },
      "execution_count": 7,
      "outputs": [
        {
          "output_type": "stream",
          "name": "stdout",
          "text": [
            "Epoch 1/10\n",
            "46/46 [==============================] - 2s 28ms/step - loss: 0.4343 - accuracy: 0.8124\n",
            "Epoch 2/10\n",
            "46/46 [==============================] - 2s 36ms/step - loss: 0.2285 - accuracy: 0.9104\n",
            "Epoch 3/10\n",
            "46/46 [==============================] - 2s 47ms/step - loss: 0.1889 - accuracy: 0.9295\n",
            "Epoch 4/10\n",
            "46/46 [==============================] - 2s 50ms/step - loss: 0.1667 - accuracy: 0.9381\n",
            "Epoch 5/10\n",
            "46/46 [==============================] - 2s 43ms/step - loss: 0.1396 - accuracy: 0.9497\n",
            "Epoch 6/10\n",
            "46/46 [==============================] - 1s 25ms/step - loss: 0.1104 - accuracy: 0.9613\n",
            "Epoch 7/10\n",
            "46/46 [==============================] - 1s 25ms/step - loss: 0.0774 - accuracy: 0.9766\n",
            "Epoch 8/10\n",
            "46/46 [==============================] - 1s 25ms/step - loss: 0.0492 - accuracy: 0.9871\n",
            "Epoch 9/10\n",
            "46/46 [==============================] - 1s 25ms/step - loss: 0.0286 - accuracy: 0.9936\n",
            "Epoch 10/10\n",
            "46/46 [==============================] - 1s 25ms/step - loss: 0.0143 - accuracy: 0.9976\n"
          ]
        }
      ]
    },
    {
      "cell_type": "markdown",
      "source": [
        "# Model Evaluation"
      ],
      "metadata": {
        "id": "s4sMD5vs1ixz"
      }
    },
    {
      "cell_type": "code",
      "source": [
        "\n",
        "Xtest = vectorize(Xtest)\n",
        "ypred = model.predict(Xtest)\n",
        "ypred = np.round(ypred)\n",
        "score = accuracy_score(ypred,ytest)\n",
        "print('Accuracy score is',100*score,'%')"
      ],
      "metadata": {
        "colab": {
          "base_uri": "https://localhost:8080/"
        },
        "id": "PG5uTRmk1dZl",
        "outputId": "4639e894-bbe4-4c82-e3cd-743bc56ffcce"
      },
      "execution_count": 9,
      "outputs": [
        {
          "output_type": "stream",
          "name": "stdout",
          "text": [
            "782/782 [==============================] - 6s 8ms/step\n",
            "Accuracy score is 85.21600000000001 %\n"
          ]
        }
      ]
    }
  ]
}